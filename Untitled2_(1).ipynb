{
  "nbformat": 4,
  "nbformat_minor": 0,
  "metadata": {
    "colab": {
      "provenance": [],
      "toc_visible": true
    },
    "kernelspec": {
      "name": "python3",
      "display_name": "Python 3"
    },
    "language_info": {
      "name": "python"
    }
  },
  "cells": [
    {
      "cell_type": "code",
      "execution_count": null,
      "metadata": {
        "colab": {
          "base_uri": "https://localhost:8080/",
          "height": 38
        },
        "id": "Mhne_Hgi-BDc",
        "outputId": "98b1b3d5-a0ec-4bdc-d068-edcedfc2b4d5"
      },
      "outputs": [
        {
          "output_type": "display_data",
          "data": {
            "text/plain": [
              "<IPython.core.display.HTML object>"
            ],
            "text/html": [
              "\n",
              "     <input type=\"file\" id=\"files-577376dd-ee28-4518-82c0-dc4f20650566\" name=\"files[]\" multiple disabled\n",
              "        style=\"border:none\" />\n",
              "     <output id=\"result-577376dd-ee28-4518-82c0-dc4f20650566\">\n",
              "      Upload widget is only available when the cell has been executed in the\n",
              "      current browser session. Please rerun this cell to enable.\n",
              "      </output>\n",
              "      <script>// Copyright 2017 Google LLC\n",
              "//\n",
              "// Licensed under the Apache License, Version 2.0 (the \"License\");\n",
              "// you may not use this file except in compliance with the License.\n",
              "// You may obtain a copy of the License at\n",
              "//\n",
              "//      http://www.apache.org/licenses/LICENSE-2.0\n",
              "//\n",
              "// Unless required by applicable law or agreed to in writing, software\n",
              "// distributed under the License is distributed on an \"AS IS\" BASIS,\n",
              "// WITHOUT WARRANTIES OR CONDITIONS OF ANY KIND, either express or implied.\n",
              "// See the License for the specific language governing permissions and\n",
              "// limitations under the License.\n",
              "\n",
              "/**\n",
              " * @fileoverview Helpers for google.colab Python module.\n",
              " */\n",
              "(function(scope) {\n",
              "function span(text, styleAttributes = {}) {\n",
              "  const element = document.createElement('span');\n",
              "  element.textContent = text;\n",
              "  for (const key of Object.keys(styleAttributes)) {\n",
              "    element.style[key] = styleAttributes[key];\n",
              "  }\n",
              "  return element;\n",
              "}\n",
              "\n",
              "// Max number of bytes which will be uploaded at a time.\n",
              "const MAX_PAYLOAD_SIZE = 100 * 1024;\n",
              "\n",
              "function _uploadFiles(inputId, outputId) {\n",
              "  const steps = uploadFilesStep(inputId, outputId);\n",
              "  const outputElement = document.getElementById(outputId);\n",
              "  // Cache steps on the outputElement to make it available for the next call\n",
              "  // to uploadFilesContinue from Python.\n",
              "  outputElement.steps = steps;\n",
              "\n",
              "  return _uploadFilesContinue(outputId);\n",
              "}\n",
              "\n",
              "// This is roughly an async generator (not supported in the browser yet),\n",
              "// where there are multiple asynchronous steps and the Python side is going\n",
              "// to poll for completion of each step.\n",
              "// This uses a Promise to block the python side on completion of each step,\n",
              "// then passes the result of the previous step as the input to the next step.\n",
              "function _uploadFilesContinue(outputId) {\n",
              "  const outputElement = document.getElementById(outputId);\n",
              "  const steps = outputElement.steps;\n",
              "\n",
              "  const next = steps.next(outputElement.lastPromiseValue);\n",
              "  return Promise.resolve(next.value.promise).then((value) => {\n",
              "    // Cache the last promise value to make it available to the next\n",
              "    // step of the generator.\n",
              "    outputElement.lastPromiseValue = value;\n",
              "    return next.value.response;\n",
              "  });\n",
              "}\n",
              "\n",
              "/**\n",
              " * Generator function which is called between each async step of the upload\n",
              " * process.\n",
              " * @param {string} inputId Element ID of the input file picker element.\n",
              " * @param {string} outputId Element ID of the output display.\n",
              " * @return {!Iterable<!Object>} Iterable of next steps.\n",
              " */\n",
              "function* uploadFilesStep(inputId, outputId) {\n",
              "  const inputElement = document.getElementById(inputId);\n",
              "  inputElement.disabled = false;\n",
              "\n",
              "  const outputElement = document.getElementById(outputId);\n",
              "  outputElement.innerHTML = '';\n",
              "\n",
              "  const pickedPromise = new Promise((resolve) => {\n",
              "    inputElement.addEventListener('change', (e) => {\n",
              "      resolve(e.target.files);\n",
              "    });\n",
              "  });\n",
              "\n",
              "  const cancel = document.createElement('button');\n",
              "  inputElement.parentElement.appendChild(cancel);\n",
              "  cancel.textContent = 'Cancel upload';\n",
              "  const cancelPromise = new Promise((resolve) => {\n",
              "    cancel.onclick = () => {\n",
              "      resolve(null);\n",
              "    };\n",
              "  });\n",
              "\n",
              "  // Wait for the user to pick the files.\n",
              "  const files = yield {\n",
              "    promise: Promise.race([pickedPromise, cancelPromise]),\n",
              "    response: {\n",
              "      action: 'starting',\n",
              "    }\n",
              "  };\n",
              "\n",
              "  cancel.remove();\n",
              "\n",
              "  // Disable the input element since further picks are not allowed.\n",
              "  inputElement.disabled = true;\n",
              "\n",
              "  if (!files) {\n",
              "    return {\n",
              "      response: {\n",
              "        action: 'complete',\n",
              "      }\n",
              "    };\n",
              "  }\n",
              "\n",
              "  for (const file of files) {\n",
              "    const li = document.createElement('li');\n",
              "    li.append(span(file.name, {fontWeight: 'bold'}));\n",
              "    li.append(span(\n",
              "        `(${file.type || 'n/a'}) - ${file.size} bytes, ` +\n",
              "        `last modified: ${\n",
              "            file.lastModifiedDate ? file.lastModifiedDate.toLocaleDateString() :\n",
              "                                    'n/a'} - `));\n",
              "    const percent = span('0% done');\n",
              "    li.appendChild(percent);\n",
              "\n",
              "    outputElement.appendChild(li);\n",
              "\n",
              "    const fileDataPromise = new Promise((resolve) => {\n",
              "      const reader = new FileReader();\n",
              "      reader.onload = (e) => {\n",
              "        resolve(e.target.result);\n",
              "      };\n",
              "      reader.readAsArrayBuffer(file);\n",
              "    });\n",
              "    // Wait for the data to be ready.\n",
              "    let fileData = yield {\n",
              "      promise: fileDataPromise,\n",
              "      response: {\n",
              "        action: 'continue',\n",
              "      }\n",
              "    };\n",
              "\n",
              "    // Use a chunked sending to avoid message size limits. See b/62115660.\n",
              "    let position = 0;\n",
              "    do {\n",
              "      const length = Math.min(fileData.byteLength - position, MAX_PAYLOAD_SIZE);\n",
              "      const chunk = new Uint8Array(fileData, position, length);\n",
              "      position += length;\n",
              "\n",
              "      const base64 = btoa(String.fromCharCode.apply(null, chunk));\n",
              "      yield {\n",
              "        response: {\n",
              "          action: 'append',\n",
              "          file: file.name,\n",
              "          data: base64,\n",
              "        },\n",
              "      };\n",
              "\n",
              "      let percentDone = fileData.byteLength === 0 ?\n",
              "          100 :\n",
              "          Math.round((position / fileData.byteLength) * 100);\n",
              "      percent.textContent = `${percentDone}% done`;\n",
              "\n",
              "    } while (position < fileData.byteLength);\n",
              "  }\n",
              "\n",
              "  // All done.\n",
              "  yield {\n",
              "    response: {\n",
              "      action: 'complete',\n",
              "    }\n",
              "  };\n",
              "}\n",
              "\n",
              "scope.google = scope.google || {};\n",
              "scope.google.colab = scope.google.colab || {};\n",
              "scope.google.colab._files = {\n",
              "  _uploadFiles,\n",
              "  _uploadFilesContinue,\n",
              "};\n",
              "})(self);\n",
              "</script> "
            ]
          },
          "metadata": {}
        }
      ],
      "source": [
        "from google.colab import files\n",
        "\n",
        "# Upload the file\n",
        "uploaded = files.upload()\n"
      ]
    },
    {
      "cell_type": "code",
      "source": [
        "import pandas as pd\n",
        "\n",
        "# Replace 'your_file.csv' with the actual filename displayed after upload\n",
        "file_path = \"TRADES_CopyTr_90D_ROI.csv\"\n",
        "data = pd.read_csv(file_path)\n",
        "\n",
        "# Display the first 5 rows\n",
        "print(\"First 5 rows of the dataset:\")\n",
        "print(data.head())\n",
        "\n",
        "# Display information about the dataset\n",
        "print(\"\\nDataset Info:\")\n",
        "print(data.info())\n",
        "\n",
        "# Display summary statistics for numerical columns\n",
        "print(\"\\nSummary Statistics:\")\n",
        "print(data.describe())\n",
        "\n",
        "# Check for missing values\n",
        "print(\"\\nMissing Values:\")\n",
        "print(data.isnull().sum())\n"
      ],
      "metadata": {
        "id": "4z_4pkjkCWHf"
      },
      "execution_count": null,
      "outputs": []
    },
    {
      "cell_type": "code",
      "source": [
        "import ast  # For parsing JSON-like strings\n",
        "\n",
        "# Drop rows with missing Trade_History\n",
        "data_cleaned = data.dropna(subset=[\"Trade_History\"])\n",
        "\n",
        "# Parse Trade_History column\n",
        "def parse_trade_history(trade_history):\n",
        "    try:\n",
        "        return ast.literal_eval(trade_history)  # Converts string to Python object\n",
        "    except Exception as e:\n",
        "        print(f\"Error parsing row: {e}\")\n",
        "        return None\n",
        "\n",
        "# Apply parsing function\n",
        "data_cleaned[\"Parsed_Trade_History\"] = data_cleaned[\"Trade_History\"].apply(parse_trade_history)\n",
        "\n",
        "# Display first few rows of parsed data\n",
        "print(\"\\nFirst 5 rows after parsing Trade_History:\")\n",
        "print(data_cleaned.head())\n",
        "\n",
        "# Check for rows with parsing issues\n",
        "print(\"\\nRows with parsing errors (if any):\")\n",
        "print(data_cleaned[data_cleaned[\"Parsed_Trade_History\"].isnull()])\n"
      ],
      "metadata": {
        "colab": {
          "base_uri": "https://localhost:8080/"
        },
        "id": "q3zCYSzBDHYj",
        "outputId": "3433f095-3437-45bc-8fc7-ce1ee013212e"
      },
      "execution_count": null,
      "outputs": [
        {
          "output_type": "stream",
          "name": "stdout",
          "text": [
            "\n",
            "First 5 rows after parsing Trade_History:\n",
            "              Port_IDs                                      Trade_History  \\\n",
            "0  3925368433214965504  [{'time': 1718899656000, 'symbol': 'SOLUSDT', ...   \n",
            "1  4002413037164645377  [{'time': 1718980078000, 'symbol': 'NEARUSDT',...   \n",
            "2  3923766029921022977  [{'time': 1718677164000, 'symbol': 'ETHUSDT', ...   \n",
            "3  3994879592543698688  [{'time': 1718678214000, 'symbol': 'ETHUSDT', ...   \n",
            "4  3926423286576838657  [{'time': 1718979615000, 'symbol': 'ETHUSDT', ...   \n",
            "\n",
            "                                Parsed_Trade_History  \n",
            "0  [{'time': 1718899656000, 'symbol': 'SOLUSDT', ...  \n",
            "1  [{'time': 1718980078000, 'symbol': 'NEARUSDT',...  \n",
            "2  [{'time': 1718677164000, 'symbol': 'ETHUSDT', ...  \n",
            "3  [{'time': 1718678214000, 'symbol': 'ETHUSDT', ...  \n",
            "4  [{'time': 1718979615000, 'symbol': 'ETHUSDT', ...  \n",
            "\n",
            "Rows with parsing errors (if any):\n",
            "Empty DataFrame\n",
            "Columns: [Port_IDs, Trade_History, Parsed_Trade_History]\n",
            "Index: []\n"
          ]
        },
        {
          "output_type": "stream",
          "name": "stderr",
          "text": [
            "<ipython-input-17-a4cc27102068>:15: SettingWithCopyWarning: \n",
            "A value is trying to be set on a copy of a slice from a DataFrame.\n",
            "Try using .loc[row_indexer,col_indexer] = value instead\n",
            "\n",
            "See the caveats in the documentation: https://pandas.pydata.org/pandas-docs/stable/user_guide/indexing.html#returning-a-view-versus-a-copy\n",
            "  data_cleaned[\"Parsed_Trade_History\"] = data_cleaned[\"Trade_History\"].apply(parse_trade_history)\n"
          ]
        }
      ]
    },
    {
      "cell_type": "code",
      "source": [
        "# Create a new DataFrame for flattened trade history\n",
        "flattened_data = []\n",
        "\n",
        "for index, row in data_cleaned.iterrows():\n",
        "    port_id = row[\"Port_IDs\"]\n",
        "    trades = row[\"Parsed_Trade_History\"]\n",
        "    for trade in trades:\n",
        "        trade[\"Port_IDs\"] = port_id  # Add Port_IDs to each trade\n",
        "        flattened_data.append(trade)\n",
        "\n",
        "# Convert flattened data into a DataFrame\n",
        "trade_history_df = pd.DataFrame(flattened_data)\n",
        "\n",
        "# Display the first few rows\n",
        "print(\"\\nFlattened Trade History:\")\n",
        "print(trade_history_df.head())\n",
        "\n",
        "# Check columns in the flattened DataFrame\n",
        "print(\"\\nColumns in Flattened Data:\")\n",
        "print(trade_history_df.columns)\n"
      ],
      "metadata": {
        "colab": {
          "base_uri": "https://localhost:8080/"
        },
        "id": "Ixx2QP_XDm7P",
        "outputId": "a219b444-4d90-4936-b0ec-8657318aee85"
      },
      "execution_count": null,
      "outputs": [
        {
          "output_type": "stream",
          "name": "stdout",
          "text": [
            "\n",
            "Flattened Trade History:\n",
            "            time    symbol side      price       fee feeAsset    quantity  \\\n",
            "0  1718899656000   SOLUSDT  BUY  132.53700 -0.994027     USDT  1988.05500   \n",
            "1  1718899618000  DOGEUSDT  BUY    0.12182 -0.279796     USDT  1398.98088   \n",
            "2  1718899618000  DOGEUSDT  BUY    0.12182 -0.039494     USDT   197.47022   \n",
            "3  1718899616000  DOGEUSDT  BUY    0.12182 -0.008284     USDT    16.56752   \n",
            "4  1718899616000  DOGEUSDT  BUY    0.12182 -0.046109     USDT    92.21774   \n",
            "\n",
            "  quantityAsset  realizedProfit realizedProfitAsset baseAsset      qty  \\\n",
            "0          USDT             0.0                USDT       SOL     15.0   \n",
            "1          USDT             0.0                USDT      DOGE  11484.0   \n",
            "2          USDT             0.0                USDT      DOGE   1621.0   \n",
            "3          USDT             0.0                USDT      DOGE    136.0   \n",
            "4          USDT             0.0                USDT      DOGE    757.0   \n",
            "\n",
            "  positionSide  activeBuy             Port_IDs  \n",
            "0         LONG       True  3925368433214965504  \n",
            "1         LONG      False  3925368433214965504  \n",
            "2         LONG      False  3925368433214965504  \n",
            "3         LONG       True  3925368433214965504  \n",
            "4         LONG       True  3925368433214965504  \n",
            "\n",
            "Columns in Flattened Data:\n",
            "Index(['time', 'symbol', 'side', 'price', 'fee', 'feeAsset', 'quantity',\n",
            "       'quantityAsset', 'realizedProfit', 'realizedProfitAsset', 'baseAsset',\n",
            "       'qty', 'positionSide', 'activeBuy', 'Port_IDs'],\n",
            "      dtype='object')\n"
          ]
        }
      ]
    },
    {
      "cell_type": "code",
      "source": [
        "import numpy as np\n",
        "\n",
        "# Calculate PnL and ROI for each trade\n",
        "def calculate_pnl_and_roi(df):\n",
        "    # Calculate Profit or Loss\n",
        "    df['PnL'] = df['realizedProfit']\n",
        "\n",
        "    # Calculate ROI (Return on Investment) for each trade\n",
        "    df['ROI'] = df['PnL'] / df['quantity'] * 100  # ROI = (PnL / Investment) * 100\n",
        "\n",
        "    return df\n",
        "\n",
        "# Apply to flattened trade history DataFrame\n",
        "trade_history_df = calculate_pnl_and_roi(trade_history_df)\n",
        "\n",
        "# Group by Port_IDs to calculate total PnL, ROI, etc. for each account\n",
        "account_metrics = trade_history_df.groupby(\"Port_IDs\").agg(\n",
        "    total_pnl=('PnL', 'sum'),\n",
        "    total_roi=('ROI', 'mean'),\n",
        "    total_positions=('qty', 'sum'),\n",
        "    win_positions=('PnL', lambda x: (x > 0).sum()),\n",
        "    total_trades=('time', 'count')\n",
        ").reset_index()\n",
        "\n",
        "# Display the first few rows of calculated metrics\n",
        "print(\"\\nAccount Metrics (PnL, ROI, etc.):\")\n",
        "print(account_metrics.head())\n"
      ],
      "metadata": {
        "colab": {
          "base_uri": "https://localhost:8080/"
        },
        "id": "TB75OliaD47B",
        "outputId": "f6264729-099b-4cd3-db8b-52f4d7d3e655"
      },
      "execution_count": null,
      "outputs": [
        {
          "output_type": "stream",
          "name": "stdout",
          "text": [
            "\n",
            "Account Metrics (PnL, ROI, etc.):\n",
            "              Port_IDs    total_pnl  total_roi  total_positions  \\\n",
            "0  3672754654734989568   566.597660   1.051204     1.524255e+07   \n",
            "1  3733192481840423936  2923.977200   0.876218     3.439270e+03   \n",
            "2  3768170840939476993   243.668899  13.584388     5.617972e+04   \n",
            "3  3784403294629753856  2521.814305   0.251201     1.557960e+07   \n",
            "4  3786761687746711808   205.021400   0.845733     2.741620e+03   \n",
            "\n",
            "   win_positions  total_trades  \n",
            "0            210           474  \n",
            "1            553           689  \n",
            "2              6            14  \n",
            "3           1829          6050  \n",
            "4             37            82  \n"
          ]
        }
      ]
    },
    {
      "cell_type": "code",
      "source": [
        "# Calculate Sharpe Ratio\n",
        "def calculate_sharpe_ratio(df):\n",
        "    # Calculate mean and standard deviation of PnL\n",
        "    mean_pnl = df['PnL'].mean()\n",
        "    std_pnl = df['PnL'].std()\n",
        "    if std_pnl != 0:\n",
        "        return mean_pnl / std_pnl\n",
        "    else:\n",
        "        return 0  # Return 0 if there's no volatility\n",
        "\n",
        "# Calculate Maximum Drawdown (MDD)\n",
        "def calculate_mdd(df):\n",
        "    # Calculate cumulative PnL\n",
        "    df['cumulative_pnl'] = df['PnL'].cumsum()\n",
        "\n",
        "    # Calculate the running maximum of the cumulative PnL\n",
        "    df['running_max'] = df['cumulative_pnl'].cummax()\n",
        "\n",
        "    # Calculate drawdown\n",
        "    df['drawdown'] = df['cumulative_pnl'] - df['running_max']\n",
        "\n",
        "    # Find the maximum drawdown\n",
        "    mdd = df['drawdown'].min()\n",
        "    return mdd\n",
        "\n",
        "# Apply these functions to each account\n",
        "account_metrics['sharpe_ratio'] = trade_history_df.groupby(\"Port_IDs\").apply(calculate_sharpe_ratio).reset_index(level=0, drop=True)\n",
        "account_metrics['mdd'] = trade_history_df.groupby(\"Port_IDs\").apply(calculate_mdd).reset_index(level=0, drop=True)\n",
        "\n",
        "# Display the updated account metrics\n",
        "print(\"\\nAccount Metrics with Sharpe Ratio and MDD:\")\n",
        "print(account_metrics.head())\n"
      ],
      "metadata": {
        "colab": {
          "base_uri": "https://localhost:8080/"
        },
        "id": "A7ojMpxvEDuC",
        "outputId": "51477c39-7a8e-4572-b034-e9f0a6ae93c3"
      },
      "execution_count": null,
      "outputs": [
        {
          "output_type": "stream",
          "name": "stderr",
          "text": [
            "<ipython-input-20-30740e8d2952>:27: DeprecationWarning: DataFrameGroupBy.apply operated on the grouping columns. This behavior is deprecated, and in a future version of pandas the grouping columns will be excluded from the operation. Either pass `include_groups=False` to exclude the groupings or explicitly select the grouping columns after groupby to silence this warning.\n",
            "  account_metrics['sharpe_ratio'] = trade_history_df.groupby(\"Port_IDs\").apply(calculate_sharpe_ratio).reset_index(level=0, drop=True)\n"
          ]
        },
        {
          "output_type": "stream",
          "name": "stdout",
          "text": [
            "\n",
            "Account Metrics with Sharpe Ratio and MDD:\n",
            "              Port_IDs    total_pnl  total_roi  total_positions  \\\n",
            "0  3672754654734989568   566.597660   1.051204     1.524255e+07   \n",
            "1  3733192481840423936  2923.977200   0.876218     3.439270e+03   \n",
            "2  3768170840939476993   243.668899  13.584388     5.617972e+04   \n",
            "3  3784403294629753856  2521.814305   0.251201     1.557960e+07   \n",
            "4  3786761687746711808   205.021400   0.845733     2.741620e+03   \n",
            "\n",
            "   win_positions  total_trades  sharpe_ratio          mdd  \n",
            "0            210           474      0.185274   -80.777037  \n",
            "1            553           689      0.060265 -2743.120000  \n",
            "2              6            14      0.424277     0.000000  \n",
            "3           1829          6050      0.106585  -271.291981  \n",
            "4             37            82      0.215150  -123.460267  \n"
          ]
        },
        {
          "output_type": "stream",
          "name": "stderr",
          "text": [
            "<ipython-input-20-30740e8d2952>:28: DeprecationWarning: DataFrameGroupBy.apply operated on the grouping columns. This behavior is deprecated, and in a future version of pandas the grouping columns will be excluded from the operation. Either pass `include_groups=False` to exclude the groupings or explicitly select the grouping columns after groupby to silence this warning.\n",
            "  account_metrics['mdd'] = trade_history_df.groupby(\"Port_IDs\").apply(calculate_mdd).reset_index(level=0, drop=True)\n"
          ]
        }
      ]
    },
    {
      "cell_type": "code",
      "source": [
        "print(trade_history_df.head())\n",
        "print(trade_history_df.columns)\n"
      ],
      "metadata": {
        "colab": {
          "base_uri": "https://localhost:8080/"
        },
        "id": "VcJxs_NwE8jQ",
        "outputId": "cdc47a3c-a2f5-4281-d191-573701574433"
      },
      "execution_count": null,
      "outputs": [
        {
          "output_type": "stream",
          "name": "stdout",
          "text": [
            "            time    symbol side      price       fee feeAsset    quantity  \\\n",
            "0  1718899656000   SOLUSDT  BUY  132.53700 -0.994027     USDT  1988.05500   \n",
            "1  1718899618000  DOGEUSDT  BUY    0.12182 -0.279796     USDT  1398.98088   \n",
            "2  1718899618000  DOGEUSDT  BUY    0.12182 -0.039494     USDT   197.47022   \n",
            "3  1718899616000  DOGEUSDT  BUY    0.12182 -0.008284     USDT    16.56752   \n",
            "4  1718899616000  DOGEUSDT  BUY    0.12182 -0.046109     USDT    92.21774   \n",
            "\n",
            "  quantityAsset  realizedProfit realizedProfitAsset baseAsset      qty  \\\n",
            "0          USDT             0.0                USDT       SOL     15.0   \n",
            "1          USDT             0.0                USDT      DOGE  11484.0   \n",
            "2          USDT             0.0                USDT      DOGE   1621.0   \n",
            "3          USDT             0.0                USDT      DOGE    136.0   \n",
            "4          USDT             0.0                USDT      DOGE    757.0   \n",
            "\n",
            "  positionSide  activeBuy             Port_IDs  PnL  ROI  \n",
            "0         LONG       True  3925368433214965504  0.0  0.0  \n",
            "1         LONG      False  3925368433214965504  0.0  0.0  \n",
            "2         LONG      False  3925368433214965504  0.0  0.0  \n",
            "3         LONG       True  3925368433214965504  0.0  0.0  \n",
            "4         LONG       True  3925368433214965504  0.0  0.0  \n",
            "Index(['time', 'symbol', 'side', 'price', 'fee', 'feeAsset', 'quantity',\n",
            "       'quantityAsset', 'realizedProfit', 'realizedProfitAsset', 'baseAsset',\n",
            "       'qty', 'positionSide', 'activeBuy', 'Port_IDs', 'PnL', 'ROI'],\n",
            "      dtype='object')\n"
          ]
        }
      ]
    },
    {
      "cell_type": "code",
      "source": [
        "print(trade_history_df.columns)\n"
      ],
      "metadata": {
        "colab": {
          "base_uri": "https://localhost:8080/"
        },
        "id": "2lseMeipFXKF",
        "outputId": "5c0c4153-53c1-49ca-c437-79e42b201ad0"
      },
      "execution_count": null,
      "outputs": [
        {
          "output_type": "stream",
          "name": "stdout",
          "text": [
            "Index(['time', 'symbol', 'side', 'price', 'fee', 'feeAsset', 'quantity',\n",
            "       'quantityAsset', 'realizedProfit', 'realizedProfitAsset', 'baseAsset',\n",
            "       'qty', 'positionSide', 'activeBuy', 'Port_IDs', 'PnL', 'ROI'],\n",
            "      dtype='object')\n"
          ]
        }
      ]
    },
    {
      "cell_type": "code",
      "source": [
        "# Check if trade_history_df is a DataFrame\n",
        "print(type(trade_history_df))\n",
        "\n",
        "# Display the first few rows to ensure the 'PnL' column is present\n",
        "print(trade_history_df.head())\n"
      ],
      "metadata": {
        "colab": {
          "base_uri": "https://localhost:8080/"
        },
        "id": "TmpMgwjvF1fA",
        "outputId": "a4a6dd3a-f7fc-4efa-f7c4-c58e5a41b2fe"
      },
      "execution_count": null,
      "outputs": [
        {
          "output_type": "stream",
          "name": "stdout",
          "text": [
            "<class 'pandas.core.frame.DataFrame'>\n",
            "            time    symbol side      price       fee feeAsset    quantity  \\\n",
            "0  1718899656000   SOLUSDT  BUY  132.53700 -0.994027     USDT  1988.05500   \n",
            "1  1718899618000  DOGEUSDT  BUY    0.12182 -0.279796     USDT  1398.98088   \n",
            "2  1718899618000  DOGEUSDT  BUY    0.12182 -0.039494     USDT   197.47022   \n",
            "3  1718899616000  DOGEUSDT  BUY    0.12182 -0.008284     USDT    16.56752   \n",
            "4  1718899616000  DOGEUSDT  BUY    0.12182 -0.046109     USDT    92.21774   \n",
            "\n",
            "  quantityAsset  realizedProfit realizedProfitAsset baseAsset      qty  \\\n",
            "0          USDT             0.0                USDT       SOL     15.0   \n",
            "1          USDT             0.0                USDT      DOGE  11484.0   \n",
            "2          USDT             0.0                USDT      DOGE   1621.0   \n",
            "3          USDT             0.0                USDT      DOGE    136.0   \n",
            "4          USDT             0.0                USDT      DOGE    757.0   \n",
            "\n",
            "  positionSide  activeBuy             Port_IDs  PnL  ROI  \n",
            "0         LONG       True  3925368433214965504  0.0  0.0  \n",
            "1         LONG      False  3925368433214965504  0.0  0.0  \n",
            "2         LONG      False  3925368433214965504  0.0  0.0  \n",
            "3         LONG       True  3925368433214965504  0.0  0.0  \n",
            "4         LONG       True  3925368433214965504  0.0  0.0  \n"
          ]
        }
      ]
    },
    {
      "cell_type": "code",
      "source": [
        "# Ensure the 'PnL' column is available\n",
        "if 'PnL' in trade_history_df.columns:\n",
        "    # Function to calculate Sharpe Ratio\n",
        "    def calculate_sharpe_ratio(series):\n",
        "        mean_pnl = series.mean()\n",
        "        std_pnl = series.std()\n",
        "        return mean_pnl / std_pnl if std_pnl != 0 else 0\n",
        "\n",
        "    # Function to calculate Maximum Drawdown (MDD)\n",
        "    def calculate_mdd(series):\n",
        "        cumulative_pnl = series.cumsum()\n",
        "        running_max = cumulative_pnl.cummax()\n",
        "        drawdown = cumulative_pnl - running_max\n",
        "        return drawdown.min()\n",
        "\n",
        "    # Use agg to apply both functions to the 'PnL' column\n",
        "    account_metrics = trade_history_df.groupby('Port_IDs').agg(\n",
        "        sharpe_ratio=('PnL', calculate_sharpe_ratio),\n",
        "        mdd=('PnL', calculate_mdd),\n",
        "        total_pnl=('PnL', 'sum'),\n",
        "        total_roi=('ROI', 'sum'),\n",
        "        total_positions=('PnL', 'count'),\n",
        "        win_positions=('PnL', lambda x: (x > 0).sum()),\n",
        "        total_trades=('PnL', 'size')\n",
        "    ).reset_index()\n",
        "\n",
        "    # Display the updated account metrics\n",
        "    print(\"\\nAccount Metrics with Sharpe Ratio and MDD:\")\n",
        "    print(account_metrics.head())\n",
        "\n",
        "else:\n",
        "    print(\"The 'PnL' column is missing from trade_history_df.\")\n"
      ],
      "metadata": {
        "colab": {
          "base_uri": "https://localhost:8080/"
        },
        "id": "k-PpsRNfGHOR",
        "outputId": "b7585963-ae07-4e88-eccc-32a2bf3ec519"
      },
      "execution_count": null,
      "outputs": [
        {
          "output_type": "stream",
          "name": "stdout",
          "text": [
            "\n",
            "Account Metrics with Sharpe Ratio and MDD:\n",
            "              Port_IDs  sharpe_ratio          mdd    total_pnl    total_roi  \\\n",
            "0  3672754654734989568      0.185274   -80.777037   566.597660   498.270815   \n",
            "1  3733192481840423936      0.060265 -2743.120000  2923.977200   603.714262   \n",
            "2  3768170840939476993      0.424277     0.000000   243.668899   190.181430   \n",
            "3  3784403294629753856      0.106585  -271.291981  2521.814305  1519.765689   \n",
            "4  3786761687746711808      0.215150  -123.460267   205.021400    69.350087   \n",
            "\n",
            "   total_positions  win_positions  total_trades  \n",
            "0              474            210           474  \n",
            "1              689            553           689  \n",
            "2               14              6            14  \n",
            "3             6050           1829          6050  \n",
            "4               82             37            82  \n"
          ]
        }
      ]
    },
    {
      "cell_type": "code",
      "source": [
        "# Calculate win rate\n",
        "account_metrics['win_rate'] = account_metrics['win_positions'] / account_metrics['total_positions']\n"
      ],
      "metadata": {
        "id": "ye5jUeE-IYzt"
      },
      "execution_count": null,
      "outputs": []
    },
    {
      "cell_type": "code",
      "source": [
        "# Assign weights to each metric\n",
        "account_metrics['rank_score'] = (\n",
        "    account_metrics['sharpe_ratio'] * 0.3 +  # Weight for Sharpe Ratio\n",
        "    account_metrics['total_roi'] * 0.4 +    # Weight for Total ROI\n",
        "    account_metrics['win_rate'] * 0.3       # Weight for Win Rate\n",
        ")\n",
        "\n",
        "# Rank the accounts based on the composite score\n",
        "account_metrics['rank'] = account_metrics['rank_score'].rank(ascending=False, method='first')\n",
        "\n",
        "# Get top 20 accounts based on rank\n",
        "top_20_accounts = account_metrics.sort_values(by='rank').head(20)\n"
      ],
      "metadata": {
        "id": "x8ZONtI0Ifcb"
      },
      "execution_count": null,
      "outputs": []
    },
    {
      "cell_type": "code",
      "source": [
        "print(\"\\nTop 20 Accounts Ranked:\")\n",
        "print(top_20_accounts[['Port_IDs', 'rank', 'rank_score']])\n"
      ],
      "metadata": {
        "colab": {
          "base_uri": "https://localhost:8080/"
        },
        "id": "G-QJGQx4Ik-b",
        "outputId": "b13eba20-2874-4d2e-cf49-4fdca77b05cc"
      },
      "execution_count": null,
      "outputs": [
        {
          "output_type": "stream",
          "name": "stdout",
          "text": [
            "\n",
            "Top 20 Accounts Ranked:\n",
            "                Port_IDs  rank   rank_score\n",
            "100  4022641794255717633   1.0  4553.231719\n",
            "17   3907081197088384000   2.0  2627.156928\n",
            "37   3944088772635000577   3.0  2303.603208\n",
            "62   3986814617275053313   4.0  2042.472303\n",
            "27   3931992636670880512   5.0  1813.681827\n",
            "33   3939925275039085824   6.0  1512.176271\n",
            "48   3956076827719377409   7.0  1385.915470\n",
            "75   3999240873283311617   8.0  1322.399142\n",
            "76   3999845462424248576   9.0  1238.366296\n",
            "35   3942630767220672256  10.0  1231.765119\n",
            "41   3949214983441029120  11.0  1184.934764\n",
            "8    3826087012661391104  12.0  1183.987215\n",
            "14   3886752488982104320  13.0  1046.243859\n",
            "36   3943533600390906881  14.0   946.628131\n",
            "65   3988187872032603905  15.0   932.880647\n",
            "63   3987739404272887297  16.0   875.140419\n",
            "40   3946087913459823360  17.0   853.306003\n",
            "112  4029749871687083265  18.0   812.640676\n",
            "86   4011626972687000576  19.0   778.374823\n",
            "11   3878631538480067329  20.0   718.477865\n"
          ]
        }
      ]
    },
    {
      "cell_type": "code",
      "source": [
        "# Save account metrics to CSV\n",
        "account_metrics.to_csv('account_metrics.csv', index=False)\n",
        "\n",
        "# Save top 20 ranked accounts to CSV\n",
        "top_20_accounts.to_csv('top_20_accounts.csv', index=False)\n"
      ],
      "metadata": {
        "id": "Nnu96jjTIs5p"
      },
      "execution_count": null,
      "outputs": []
    },
    {
      "cell_type": "code",
      "source": [
        "# Define the report content\n",
        "report_content = \"\"\"\n",
        "# Report: Account Ranking and Financial Metrics Analysis\n",
        "\n",
        "## Data Exploration:\n",
        "- Explored the trade history dataset and cleaned the data by handling missing values and ensuring necessary columns were available.\n",
        "\n",
        "## Feature Engineering:\n",
        "- Calculated key financial metrics like PnL, ROI, Sharpe Ratio, and MDD.\n",
        "- Added metrics like Win Positions and Win Rate.\n",
        "\n",
        "## Ranking Logic:\n",
        "- Weights for Ranking:\n",
        "  - Sharpe Ratio: 30%\n",
        "  - Total ROI: 40%\n",
        "  - Win Rate: 30%\n",
        "\n",
        "## Top 20 Accounts:\n",
        "- The top 20 accounts were ranked based on their performance, considering the weighted metrics.\n",
        "\n",
        "## Findings:\n",
        "- Account `3925368433214965504` has the highest rank based on the Sharpe Ratio and ROI.\n",
        "\"\"\"\n",
        "\n",
        "# Save the report to a markdown file\n",
        "with open('report.md', 'w') as f:\n",
        "    f.write(report_content)\n",
        "\n",
        "print(\"Report has been saved as 'report.md'.\")\n"
      ],
      "metadata": {
        "colab": {
          "base_uri": "https://localhost:8080/"
        },
        "id": "2VQL2svmJFHC",
        "outputId": "a69e361c-026d-4ea4-d145-5ec6e995082c"
      },
      "execution_count": null,
      "outputs": [
        {
          "output_type": "stream",
          "name": "stdout",
          "text": [
            "Report has been saved as 'report.md'.\n"
          ]
        }
      ]
    },
    {
      "cell_type": "code",
      "source": [
        "# Save the account metrics to a CSV file\n",
        "account_metrics.to_csv('/content/account_metrics.csv', index=False)\n",
        "\n",
        "# This will save the file in Colab's environment. Now, to download it to your local machine:\n",
        "from google.colab import files\n",
        "files.download('/content/account_metrics.csv')\n"
      ],
      "metadata": {
        "colab": {
          "base_uri": "https://localhost:8080/",
          "height": 17
        },
        "id": "L9fysOz5LTH3",
        "outputId": "12ed5ec5-983e-4c50-c3dd-418f4bb3ef40"
      },
      "execution_count": null,
      "outputs": [
        {
          "output_type": "display_data",
          "data": {
            "text/plain": [
              "<IPython.core.display.Javascript object>"
            ],
            "application/javascript": [
              "\n",
              "    async function download(id, filename, size) {\n",
              "      if (!google.colab.kernel.accessAllowed) {\n",
              "        return;\n",
              "      }\n",
              "      const div = document.createElement('div');\n",
              "      const label = document.createElement('label');\n",
              "      label.textContent = `Downloading \"${filename}\": `;\n",
              "      div.appendChild(label);\n",
              "      const progress = document.createElement('progress');\n",
              "      progress.max = size;\n",
              "      div.appendChild(progress);\n",
              "      document.body.appendChild(div);\n",
              "\n",
              "      const buffers = [];\n",
              "      let downloaded = 0;\n",
              "\n",
              "      const channel = await google.colab.kernel.comms.open(id);\n",
              "      // Send a message to notify the kernel that we're ready.\n",
              "      channel.send({})\n",
              "\n",
              "      for await (const message of channel.messages) {\n",
              "        // Send a message to notify the kernel that we're ready.\n",
              "        channel.send({})\n",
              "        if (message.buffers) {\n",
              "          for (const buffer of message.buffers) {\n",
              "            buffers.push(buffer);\n",
              "            downloaded += buffer.byteLength;\n",
              "            progress.value = downloaded;\n",
              "          }\n",
              "        }\n",
              "      }\n",
              "      const blob = new Blob(buffers, {type: 'application/binary'});\n",
              "      const a = document.createElement('a');\n",
              "      a.href = window.URL.createObjectURL(blob);\n",
              "      a.download = filename;\n",
              "      div.appendChild(a);\n",
              "      a.click();\n",
              "      div.remove();\n",
              "    }\n",
              "  "
            ]
          },
          "metadata": {}
        },
        {
          "output_type": "display_data",
          "data": {
            "text/plain": [
              "<IPython.core.display.Javascript object>"
            ],
            "application/javascript": [
              "download(\"download_b96d928d-0b31-4388-bf34-636cbccdc855\", \"account_metrics.csv\", 21177)"
            ]
          },
          "metadata": {}
        }
      ]
    },
    {
      "cell_type": "code",
      "source": [
        "# Create a string for your report\n",
        "report = \"\"\"\n",
        "# Binance Trade Data Analysis Report\n",
        "\n",
        "## Introduction\n",
        "This report outlines the analysis conducted on historical trade data from Binance accounts. The goal was to calculate key financial metrics for each account, rank them, and provide a top 20 list based on their performance.\n",
        "\n",
        "## Data Exploration and Cleaning\n",
        "- Explored the trade history dataset and cleaned the data by handling missing values and ensuring necessary columns were available.\n",
        "\n",
        "## Key Metrics Calculated\n",
        "- **ROI (Return on Investment)**\n",
        "- **PnL (Profit and Loss)**\n",
        "- **Sharpe Ratio**\n",
        "- **MDD (Maximum Drawdown)**\n",
        "- **Win Rate**\n",
        "- **Win Positions**\n",
        "- **Total Positions**\n",
        "\n",
        "## Ranking Algorithm\n",
        "The accounts were ranked based on the calculated metrics, with a focus on ROI, Sharpe Ratio, and MDD.\n",
        "\n",
        "## Top 20 Accounts\n",
        "The top 20 accounts are listed based on their ROI.\n",
        "\"\"\"\n",
        "\n",
        "# Save the report to a markdown file\n",
        "with open('/content/report.md', 'w') as file:\n",
        "    file.write(report)\n",
        "\n",
        "# Now, download the report file\n",
        "from google.colab import files\n",
        "files.download('/content/report.md')\n"
      ],
      "metadata": {
        "colab": {
          "base_uri": "https://localhost:8080/",
          "height": 17
        },
        "id": "_2VnOlN5LrZo",
        "outputId": "7457d468-6986-4caf-80d6-b6297382e104"
      },
      "execution_count": null,
      "outputs": [
        {
          "output_type": "display_data",
          "data": {
            "text/plain": [
              "<IPython.core.display.Javascript object>"
            ],
            "application/javascript": [
              "\n",
              "    async function download(id, filename, size) {\n",
              "      if (!google.colab.kernel.accessAllowed) {\n",
              "        return;\n",
              "      }\n",
              "      const div = document.createElement('div');\n",
              "      const label = document.createElement('label');\n",
              "      label.textContent = `Downloading \"${filename}\": `;\n",
              "      div.appendChild(label);\n",
              "      const progress = document.createElement('progress');\n",
              "      progress.max = size;\n",
              "      div.appendChild(progress);\n",
              "      document.body.appendChild(div);\n",
              "\n",
              "      const buffers = [];\n",
              "      let downloaded = 0;\n",
              "\n",
              "      const channel = await google.colab.kernel.comms.open(id);\n",
              "      // Send a message to notify the kernel that we're ready.\n",
              "      channel.send({})\n",
              "\n",
              "      for await (const message of channel.messages) {\n",
              "        // Send a message to notify the kernel that we're ready.\n",
              "        channel.send({})\n",
              "        if (message.buffers) {\n",
              "          for (const buffer of message.buffers) {\n",
              "            buffers.push(buffer);\n",
              "            downloaded += buffer.byteLength;\n",
              "            progress.value = downloaded;\n",
              "          }\n",
              "        }\n",
              "      }\n",
              "      const blob = new Blob(buffers, {type: 'application/binary'});\n",
              "      const a = document.createElement('a');\n",
              "      a.href = window.URL.createObjectURL(blob);\n",
              "      a.download = filename;\n",
              "      div.appendChild(a);\n",
              "      a.click();\n",
              "      div.remove();\n",
              "    }\n",
              "  "
            ]
          },
          "metadata": {}
        },
        {
          "output_type": "display_data",
          "data": {
            "text/plain": [
              "<IPython.core.display.Javascript object>"
            ],
            "application/javascript": [
              "download(\"download_62db824a-0ce2-41bb-928a-cb45b3ba3026\", \"report.md\", 832)"
            ]
          },
          "metadata": {}
        }
      ]
    },
    {
      "cell_type": "code",
      "source": [
        "# Rank the accounts based on Sharpe Ratio and Total PnL\n",
        "account_metrics['rank'] = account_metrics['sharpe_ratio'] * 100 + account_metrics['total_pnl']  # Combine Sharpe and PnL\n",
        "\n",
        "# Sort by the rank (descending order)\n",
        "top_20_accounts = account_metrics.sort_values(by='rank', ascending=False).head(20)\n",
        "\n",
        "# Display the top 20 accounts\n",
        "print(top_20_accounts)\n",
        "\n",
        "# Save the top 20 accounts to a CSV file\n",
        "top_20_accounts.to_csv('/content/top_20_accounts.csv', index=False)\n"
      ],
      "metadata": {
        "colab": {
          "base_uri": "https://localhost:8080/"
        },
        "id": "OCT8AlvEMbZk",
        "outputId": "0d918fe9-4398-48da-8839-b55e6fa63385"
      },
      "execution_count": null,
      "outputs": [
        {
          "output_type": "stream",
          "name": "stdout",
          "text": [
            "                Port_IDs  sharpe_ratio           mdd     total_pnl  \\\n",
            "96   4020204877254599680      0.060748 -21338.051188  71998.855953   \n",
            "75   3999240873283311617      0.227505   -300.813848  42574.473679   \n",
            "98   4021669203289716224      0.068251  -2537.866629  26427.331592   \n",
            "50   3960874214179953664      0.162948  -2234.000000  19567.471286   \n",
            "17   3907081197088384000      0.222729  -2060.707122  18015.997370   \n",
            "107  4028701921959171840      0.275724   -585.677600  17601.401398   \n",
            "48   3956076827719377409      0.099528   -635.050015  16790.012238   \n",
            "62   3986814617275053313      0.329787     -2.381947  16337.461881   \n",
            "99   4022565861939831809      0.299602   -385.075554  14197.577076   \n",
            "5    3788465932399412480      0.152912  -1772.219440  13960.966457   \n",
            "63   3987739404272887297      0.049883  -3386.656094  12464.606315   \n",
            "84   4008711265867865600      0.266290   -509.550000  11298.706390   \n",
            "30   3936410995029308417      0.298984      0.000000  10681.514000   \n",
            "27   3931992636670880512      0.050796  -1651.131700  10374.965290   \n",
            "32   3939318616482048768      0.203829    -87.003360   9775.389110   \n",
            "73   3998572645139652353      0.262291   -214.715155   9603.585360   \n",
            "51   3962024093501274881      0.074067  -1828.494702   9314.494060   \n",
            "125  4031493134338259457      0.156114  -3682.109799   9082.698288   \n",
            "37   3944088772635000577      0.299141    -97.203725   7581.491983   \n",
            "136  4037121179310444801      0.109102  -1198.331780   7237.921738   \n",
            "\n",
            "       total_roi  total_positions  win_positions  total_trades  win_rate  \\\n",
            "96  -1498.079190             6050           1993          6050  0.329421   \n",
            "75   3305.434811             4522           2366          4522  0.523220   \n",
            "98    106.879255             1682            528          1682  0.313912   \n",
            "50    620.877353             2391           1233          2391  0.515684   \n",
            "17   6567.264794             4137           2540          4137  0.613971   \n",
            "107   308.863655              687            373           687  0.542940   \n",
            "48   3464.327345             3916           2019          3916  0.515577   \n",
            "62   5105.346754             3554           2780          3554  0.782217   \n",
            "99    235.872789              705            372           705  0.527660   \n",
            "5    1338.915641             3069           1369          3069  0.446074   \n",
            "63   2187.642436             6050           1381          6050  0.228264   \n",
            "84    130.447948              394            166           394  0.421320   \n",
            "30     41.093835               20              6            20  0.300000   \n",
            "27   4533.865231             6050           2430          6050  0.401653   \n",
            "32    221.763713              315            118           315  0.374603   \n",
            "73    106.275531              266             95           266  0.357143   \n",
            "51     65.410925             1273            337          1273  0.264729   \n",
            "125    66.353637             1889            683          1889  0.361567   \n",
            "37   5758.440518             6063           2774          6063  0.457529   \n",
            "136   173.199320             1595            772          1595  0.484013   \n",
            "\n",
            "      rank_score          rank  \n",
            "96   -599.114625  72004.930756  \n",
            "75   1322.399142  42597.224212  \n",
            "98     42.866351  26434.156666  \n",
            "50    248.554531  19583.766067  \n",
            "17   2627.156928  18038.270300  \n",
            "107   123.791061  17628.973786  \n",
            "48   1385.915470  16799.965040  \n",
            "62   2042.472303  16370.440538  \n",
            "99     94.597294  14227.537313  \n",
            "5     535.745952  13976.257672  \n",
            "63    875.140419  12469.594566  \n",
            "84     52.385462  11325.335349  \n",
            "30     16.617229  10711.412370  \n",
            "27   1813.681827  10380.044918  \n",
            "32     88.879015   9795.772056  \n",
            "73     42.696043   9629.814446  \n",
            "51     26.266009   9321.900778  \n",
            "125    26.696759   9098.309687  \n",
            "37   2303.603208   7611.406091  \n",
            "136    69.457662   7248.831906  \n"
          ]
        }
      ]
    },
    {
      "cell_type": "code",
      "source": [
        "# Rank the accounts based on Sharpe Ratio and Total PnL\n",
        "account_metrics['rank'] = account_metrics['sharpe_ratio'] * 100 + account_metrics['total_pnl']  # Combine Sharpe and PnL\n",
        "\n",
        "# Sort by the rank (descending order)\n",
        "top_20_accounts = account_metrics.sort_values(by='rank', ascending=False).head(20)\n",
        "\n",
        "# Display the top 20 accounts\n",
        "print(top_20_accounts)\n",
        "\n",
        "# Save the top 20 accounts to a CSV file\n",
        "top_20_accounts.to_csv('/content/top_20_accounts.csv', index=False)\n",
        "\n",
        "# Confirm the file is saved\n",
        "print(\"Top 20 accounts saved as top_20_accounts.csv\")\n"
      ],
      "metadata": {
        "colab": {
          "base_uri": "https://localhost:8080/"
        },
        "id": "mYzQyXn4M3ve",
        "outputId": "8b2a0909-ac20-4627-9785-d2e3fb6a39a1"
      },
      "execution_count": null,
      "outputs": [
        {
          "output_type": "stream",
          "name": "stdout",
          "text": [
            "                Port_IDs  sharpe_ratio           mdd     total_pnl  \\\n",
            "96   4020204877254599680      0.060748 -21338.051188  71998.855953   \n",
            "75   3999240873283311617      0.227505   -300.813848  42574.473679   \n",
            "98   4021669203289716224      0.068251  -2537.866629  26427.331592   \n",
            "50   3960874214179953664      0.162948  -2234.000000  19567.471286   \n",
            "17   3907081197088384000      0.222729  -2060.707122  18015.997370   \n",
            "107  4028701921959171840      0.275724   -585.677600  17601.401398   \n",
            "48   3956076827719377409      0.099528   -635.050015  16790.012238   \n",
            "62   3986814617275053313      0.329787     -2.381947  16337.461881   \n",
            "99   4022565861939831809      0.299602   -385.075554  14197.577076   \n",
            "5    3788465932399412480      0.152912  -1772.219440  13960.966457   \n",
            "63   3987739404272887297      0.049883  -3386.656094  12464.606315   \n",
            "84   4008711265867865600      0.266290   -509.550000  11298.706390   \n",
            "30   3936410995029308417      0.298984      0.000000  10681.514000   \n",
            "27   3931992636670880512      0.050796  -1651.131700  10374.965290   \n",
            "32   3939318616482048768      0.203829    -87.003360   9775.389110   \n",
            "73   3998572645139652353      0.262291   -214.715155   9603.585360   \n",
            "51   3962024093501274881      0.074067  -1828.494702   9314.494060   \n",
            "125  4031493134338259457      0.156114  -3682.109799   9082.698288   \n",
            "37   3944088772635000577      0.299141    -97.203725   7581.491983   \n",
            "136  4037121179310444801      0.109102  -1198.331780   7237.921738   \n",
            "\n",
            "       total_roi  total_positions  win_positions  total_trades  win_rate  \\\n",
            "96  -1498.079190             6050           1993          6050  0.329421   \n",
            "75   3305.434811             4522           2366          4522  0.523220   \n",
            "98    106.879255             1682            528          1682  0.313912   \n",
            "50    620.877353             2391           1233          2391  0.515684   \n",
            "17   6567.264794             4137           2540          4137  0.613971   \n",
            "107   308.863655              687            373           687  0.542940   \n",
            "48   3464.327345             3916           2019          3916  0.515577   \n",
            "62   5105.346754             3554           2780          3554  0.782217   \n",
            "99    235.872789              705            372           705  0.527660   \n",
            "5    1338.915641             3069           1369          3069  0.446074   \n",
            "63   2187.642436             6050           1381          6050  0.228264   \n",
            "84    130.447948              394            166           394  0.421320   \n",
            "30     41.093835               20              6            20  0.300000   \n",
            "27   4533.865231             6050           2430          6050  0.401653   \n",
            "32    221.763713              315            118           315  0.374603   \n",
            "73    106.275531              266             95           266  0.357143   \n",
            "51     65.410925             1273            337          1273  0.264729   \n",
            "125    66.353637             1889            683          1889  0.361567   \n",
            "37   5758.440518             6063           2774          6063  0.457529   \n",
            "136   173.199320             1595            772          1595  0.484013   \n",
            "\n",
            "      rank_score          rank  \n",
            "96   -599.114625  72004.930756  \n",
            "75   1322.399142  42597.224212  \n",
            "98     42.866351  26434.156666  \n",
            "50    248.554531  19583.766067  \n",
            "17   2627.156928  18038.270300  \n",
            "107   123.791061  17628.973786  \n",
            "48   1385.915470  16799.965040  \n",
            "62   2042.472303  16370.440538  \n",
            "99     94.597294  14227.537313  \n",
            "5     535.745952  13976.257672  \n",
            "63    875.140419  12469.594566  \n",
            "84     52.385462  11325.335349  \n",
            "30     16.617229  10711.412370  \n",
            "27   1813.681827  10380.044918  \n",
            "32     88.879015   9795.772056  \n",
            "73     42.696043   9629.814446  \n",
            "51     26.266009   9321.900778  \n",
            "125    26.696759   9098.309687  \n",
            "37   2303.603208   7611.406091  \n",
            "136    69.457662   7248.831906  \n",
            "Top 20 accounts saved as top_20_accounts.csv\n"
          ]
        }
      ]
    },
    {
      "cell_type": "code",
      "source": [
        "from google.colab import files\n",
        "files.download('/content/top_20_accounts.csv')\n"
      ],
      "metadata": {
        "id": "3p23qR06RSPE"
      },
      "execution_count": null,
      "outputs": []
    }
  ]
}